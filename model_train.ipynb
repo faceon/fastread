{
 "cells": [
  {
   "cell_type": "code",
   "execution_count": 1,
   "metadata": {},
   "outputs": [],
   "source": [
    "# This notebook is based on \n",
    "# https://www.kaggle.com/aidenkim/commonlit-fastai-baseline which comes from\n",
    "# https://www.kaggle.com/aninda/commonlit-fastai\n",
    "# to fast build a baseline model for a web service prototype\n",
    "# Without any fine tuning, it goes straight to exporting a model as a pkl file."
   ]
  },
  {
   "cell_type": "code",
   "execution_count": 2,
   "metadata": {},
   "outputs": [
    {
     "name": "stdout",
     "output_type": "stream",
     "text": [
      "commonlitreadabilityprize/test.csv\n",
      "commonlitreadabilityprize/train.csv\n",
      "commonlitreadabilityprize/sample_submission.csv\n"
     ]
    }
   ],
   "source": [
    "import numpy as np\n",
    "import pandas as pd\n",
    "import os\n",
    "for dirname, _, filenames in os.walk('commonlitreadabilityprize'):\n",
    "    for filename in filenames:\n",
    "        print(os.path.join(dirname, filename))"
   ]
  },
  {
   "cell_type": "code",
   "execution_count": 3,
   "metadata": {},
   "outputs": [
    {
     "data": {
      "text/html": [
       "<div>\n",
       "<style scoped>\n",
       "    .dataframe tbody tr th:only-of-type {\n",
       "        vertical-align: middle;\n",
       "    }\n",
       "\n",
       "    .dataframe tbody tr th {\n",
       "        vertical-align: top;\n",
       "    }\n",
       "\n",
       "    .dataframe thead th {\n",
       "        text-align: right;\n",
       "    }\n",
       "</style>\n",
       "<table border=\"1\" class=\"dataframe\">\n",
       "  <thead>\n",
       "    <tr style=\"text-align: right;\">\n",
       "      <th></th>\n",
       "      <th>id</th>\n",
       "      <th>url_legal</th>\n",
       "      <th>license</th>\n",
       "      <th>excerpt</th>\n",
       "      <th>target</th>\n",
       "      <th>standard_error</th>\n",
       "    </tr>\n",
       "  </thead>\n",
       "  <tbody>\n",
       "    <tr>\n",
       "      <th>0</th>\n",
       "      <td>c12129c31</td>\n",
       "      <td>NaN</td>\n",
       "      <td>NaN</td>\n",
       "      <td>When the young people returned to the ballroom...</td>\n",
       "      <td>-0.340259</td>\n",
       "      <td>0.464009</td>\n",
       "    </tr>\n",
       "  </tbody>\n",
       "</table>\n",
       "</div>"
      ],
      "text/plain": [
       "          id url_legal license  \\\n",
       "0  c12129c31       NaN     NaN   \n",
       "\n",
       "                                             excerpt    target  standard_error  \n",
       "0  When the young people returned to the ballroom... -0.340259        0.464009  "
      ]
     },
     "execution_count": 3,
     "metadata": {},
     "output_type": "execute_result"
    }
   ],
   "source": [
    "# All training data exist under commonlitreadabilityprize/\n",
    "\n",
    "train = pd.read_csv('commonlitreadabilityprize/train.csv')\n",
    "train.head(1)"
   ]
  },
  {
   "cell_type": "code",
   "execution_count": 4,
   "metadata": {},
   "outputs": [],
   "source": [
    "# Let's turn off some cumbersome warnings, for now\n",
    "\n",
    "import warnings\n",
    "warnings.filterwarnings('ignore')"
   ]
  },
  {
   "cell_type": "code",
   "execution_count": 5,
   "metadata": {},
   "outputs": [],
   "source": [
    "# Fire up fastai NLP library\n",
    "\n",
    "from fastai.data.all import *\n",
    "from fastai.text.all import *"
   ]
  },
  {
   "cell_type": "code",
   "execution_count": 6,
   "metadata": {},
   "outputs": [
    {
     "data": {
      "text/html": [],
      "text/plain": [
       "<IPython.core.display.HTML object>"
      ]
     },
     "metadata": {},
     "output_type": "display_data"
    },
    {
     "data": {
      "text/html": [
       "<table border=\"1\" class=\"dataframe\">\n",
       "  <thead>\n",
       "    <tr style=\"text-align: right;\">\n",
       "      <th></th>\n",
       "      <th>text</th>\n",
       "      <th>text_</th>\n",
       "    </tr>\n",
       "  </thead>\n",
       "  <tbody>\n",
       "    <tr>\n",
       "      <th>0</th>\n",
       "      <td>xxbos a compass is an instrument used for navigation and xxunk that shows direction relative to the geographic \" cardinal directions \" , or \" points \" . xxmaj usually , a diagram called a compass rose , shows the directions north , south , east , and west as abbreviated xxunk marked on the compass . xxmaj when the compass is used , the rose can be xxunk with the corresponding</td>\n",
       "      <td>a compass is an instrument used for navigation and xxunk that shows direction relative to the geographic \" cardinal directions \" , or \" points \" . xxmaj usually , a diagram called a compass rose , shows the directions north , south , east , and west as abbreviated xxunk marked on the compass . xxmaj when the compass is used , the rose can be xxunk with the corresponding geographic</td>\n",
       "    </tr>\n",
       "    <tr>\n",
       "      <th>1</th>\n",
       "      <td>, the changing light of the xxmaj moon takes about xxunk days to go from dark to bright to dark again . xxmaj that is where the idea of \" month \" came from . xxmaj however , now most months have 30 or 31 days so they fit into one year . xxbos xxmaj it was already candle - light when we reached the hamlet , and i shall never forget</td>\n",
       "      <td>the changing light of the xxmaj moon takes about xxunk days to go from dark to bright to dark again . xxmaj that is where the idea of \" month \" came from . xxmaj however , now most months have 30 or 31 days so they fit into one year . xxbos xxmaj it was already candle - light when we reached the hamlet , and i shall never forget how</td>\n",
       "    </tr>\n",
       "    <tr>\n",
       "      <th>2</th>\n",
       "      <td>. \\n xxmaj before long two queer - looking objects came toward me , xxunk along in a sort of hollow log . xxmaj seeing plainly that they were not bears , i felt much afraid of them . xxmaj my mother had often talked to me about some fierce creatures called \" men , \" and had told me always to keep out of their way . xxbos xxmaj the clever</td>\n",
       "      <td>\\n xxmaj before long two queer - looking objects came toward me , xxunk along in a sort of hollow log . xxmaj seeing plainly that they were not bears , i felt much afraid of them . xxmaj my mother had often talked to me about some fierce creatures called \" men , \" and had told me always to keep out of their way . xxbos xxmaj the clever xxmaj</td>\n",
       "    </tr>\n",
       "  </tbody>\n",
       "</table>"
      ],
      "text/plain": [
       "<IPython.core.display.HTML object>"
      ]
     },
     "metadata": {},
     "output_type": "display_data"
    }
   ],
   "source": [
    "# Load train data\n",
    "\n",
    "text_lm = DataBlock(blocks=TextBlock.from_df('excerpt', is_lm=True),\n",
    "                    get_x=ColReader('text'),\n",
    "                    splitter=RandomSplitter(seed=42))\n",
    "dls_lm = text_lm.dataloaders(train, bs=64)\n",
    "dls_lm.show_batch(max_n=3)"
   ]
  },
  {
   "cell_type": "code",
   "execution_count": 7,
   "metadata": {},
   "outputs": [
    {
     "data": {
      "text/html": [],
      "text/plain": [
       "<IPython.core.display.HTML object>"
      ]
     },
     "metadata": {},
     "output_type": "display_data"
    },
    {
     "data": {
      "text/html": [
       "<table border=\"1\" class=\"dataframe\">\n",
       "  <thead>\n",
       "    <tr style=\"text-align: right;\">\n",
       "      <th></th>\n",
       "      <th>text</th>\n",
       "      <th>text_</th>\n",
       "    </tr>\n",
       "  </thead>\n",
       "  <tbody>\n",
       "    <tr>\n",
       "      <th>0</th>\n",
       "      <td>xxbos xxmaj in those days all cloth had to be made at home . xxmaj aunt xxmaj xxunk , xxmaj aunt xxmaj xxunk , and xxmaj aunt xxmaj dilsey were kept busy spinning and weaving to make clothes for the whole plantation . \\n xxmaj one day xxmaj mary 's mother said , \" aunt xxmaj dilsey , xxmaj mary needs a new dress , and i want you to weave some cloth at once . xxmaj can you weave some very fine cloth ? \" \\n \" yes , ma'am , \" said xxmaj aunt xxmaj dilsey . \" i have some cotton xxmaj i 've been saving to make her a dress . \" \\n xxmaj aunt xxmaj dilsey got out the cards and carded the cotton smooth and fine . xxmaj then she fastened a roll of this cotton to the spindle and sent the wheel xxunk</td>\n",
       "      <td>0.08876363933086395</td>\n",
       "    </tr>\n",
       "    <tr>\n",
       "      <th>1</th>\n",
       "      <td>xxbos xxmaj mother xxmaj goat passes by . \" will you go to the fair with me ? \" she asks xxmaj mother xxmaj hen . \\n \" i 'm busy with my eggs , \" xxmaj mother xxmaj hen answers . xxmaj one , two , three , four , five , six . \\n xxmaj six round eggs ! xxmaj mother xxmaj pig passes by . \" will you go to the fair with me ? \" she asks . \" i 'm busy with my eggs , \" answers xxmaj mother xxmaj hen . xxmaj one , two , three , four , five , six . xxmaj six round eggs ! xxmaj mother xxmaj cow passes by . \" will you go to the fair with me ? \" she asks xxmaj mother xxmaj hen . \" i 'm busy with my eggs , \" answers</td>\n",
       "      <td>0.6820314526557922</td>\n",
       "    </tr>\n",
       "    <tr>\n",
       "      <th>2</th>\n",
       "      <td>xxbos xxmaj the xxmaj battle of xxmaj xxunk is considered the turning point of the xxmaj american xxmaj revolution . xxmaj the battle was fought in late 1 xxrep 3 7 . xxup i. xxmaj it was actually two xxunk : the xxmaj battle of xxmaj xxunk 's xxmaj farm ( september 19 ) and the xxmaj battle of xxmaj xxunk xxmaj heights ( october 7 ) . xxmaj the xxmaj americans were led by xxmaj general xxmaj xxunk xxmaj gates . xxmaj the xxmaj british were led by xxmaj general xxmaj john xxmaj burgoyne . xxmaj on xxmaj october 17 xxmaj burgoyne xxunk his army of nearly 6 , xxrep 3 0 xxmaj british soldiers . xxmaj the xxmaj american victory helped convince xxmaj france to come to the aid the xxmaj continental xxmaj army . xxmaj it also helped them recognize the xxmaj united xxmaj states . \\n</td>\n",
       "      <td>-0.8143802881240845</td>\n",
       "    </tr>\n",
       "  </tbody>\n",
       "</table>"
      ],
      "text/plain": [
       "<IPython.core.display.HTML object>"
      ]
     },
     "metadata": {},
     "output_type": "display_data"
    }
   ],
   "source": [
    "# Change train data into regression setting\n",
    "\n",
    "text_class = DataBlock(\n",
    "    blocks=(TextBlock.from_df('excerpt', vocab=dls_lm.vocab), RegressionBlock),\n",
    "    get_x=ColReader('text'),\n",
    "    get_y=ColReader('target'),\n",
    "    splitter=RandomSplitter(seed=42)\n",
    ")\n",
    "dls = text_class.dataloaders(train, bs=64)\n",
    "dls.show_batch(max_n=3)"
   ]
  },
  {
   "cell_type": "code",
   "execution_count": 8,
   "metadata": {},
   "outputs": [],
   "source": [
    "# Let's begin with an LSTM model first\n",
    "# TODO: move into BERT\n",
    "\n",
    "learn = text_classifier_learner(dls, AWD_LSTM, metrics=rmse)"
   ]
  },
  {
   "cell_type": "code",
   "execution_count": 9,
   "metadata": {},
   "outputs": [
    {
     "data": {
      "text/html": [
       "<table border=\"1\" class=\"dataframe\">\n",
       "  <thead>\n",
       "    <tr style=\"text-align: left;\">\n",
       "      <th>epoch</th>\n",
       "      <th>train_loss</th>\n",
       "      <th>valid_loss</th>\n",
       "      <th>_rmse</th>\n",
       "      <th>time</th>\n",
       "    </tr>\n",
       "  </thead>\n",
       "  <tbody>\n",
       "    <tr>\n",
       "      <td>0</td>\n",
       "      <td>1.061295</td>\n",
       "      <td>0.594067</td>\n",
       "      <td>0.770757</td>\n",
       "      <td>04:54</td>\n",
       "    </tr>\n",
       "    <tr>\n",
       "      <td>1</td>\n",
       "      <td>0.680838</td>\n",
       "      <td>0.438433</td>\n",
       "      <td>0.662143</td>\n",
       "      <td>04:51</td>\n",
       "    </tr>\n",
       "  </tbody>\n",
       "</table>"
      ],
      "text/plain": [
       "<IPython.core.display.HTML object>"
      ]
     },
     "metadata": {},
     "output_type": "display_data"
    }
   ],
   "source": [
    "# Learn for 2 epochs with a random learning rate\n",
    "# TODO: train for more epochs with a fine tuned learning rate\n",
    "\n",
    "learn.fit_one_cycle(2, 2e-2)"
   ]
  },
  {
   "cell_type": "code",
   "execution_count": 10,
   "metadata": {},
   "outputs": [],
   "source": [
    "# Export the trained model\n",
    "\n",
    "learn.export('model_lstm.pkl')"
   ]
  },
  {
   "cell_type": "code",
   "execution_count": 11,
   "metadata": {},
   "outputs": [],
   "source": [
    "# Load the model into the learner again\n",
    "\n",
    "learn = load_learner('model_lstm.pkl')"
   ]
  },
  {
   "cell_type": "code",
   "execution_count": 12,
   "metadata": {},
   "outputs": [],
   "source": [
    "# Let's briefly test the learner with custom data\n",
    "\n",
    "def how_readable(sentences):\n",
    "    for sentence in sentences:\n",
    "        print(learn.predict(sentence)[0][0], ':', sentence)"
   ]
  },
  {
   "cell_type": "code",
   "execution_count": 15,
   "metadata": {},
   "outputs": [
    {
     "data": {
      "text/html": [],
      "text/plain": [
       "<IPython.core.display.HTML object>"
      ]
     },
     "metadata": {},
     "output_type": "display_data"
    },
    {
     "name": "stdout",
     "output_type": "stream",
     "text": [
      "-0.22363343834877014 : I am very happy\n"
     ]
    },
    {
     "data": {
      "text/html": [],
      "text/plain": [
       "<IPython.core.display.HTML object>"
      ]
     },
     "metadata": {},
     "output_type": "display_data"
    },
    {
     "name": "stdout",
     "output_type": "stream",
     "text": [
      "-0.8798486590385437 : I am full of happiness\n"
     ]
    },
    {
     "data": {
      "text/html": [],
      "text/plain": [
       "<IPython.core.display.HTML object>"
      ]
     },
     "metadata": {},
     "output_type": "display_data"
    },
    {
     "name": "stdout",
     "output_type": "stream",
     "text": [
      "-1.3434250354766846 : The number of unemployment-benefit recipients is falling at a faster rate\n"
     ]
    }
   ],
   "source": [
    "# Sentences should have different scores\n",
    "# The more readable a sentence is, the more score should be predicted.\n",
    "\n",
    "sentences = [\n",
    "    'I am very happy', \n",
    "    'I am full of happiness',\n",
    "    'The number of unemployment-benefit recipients is falling at a faster rate'\n",
    "]\n",
    "\n",
    "how_readable(sentences)"
   ]
  },
  {
   "cell_type": "code",
   "execution_count": 14,
   "metadata": {},
   "outputs": [],
   "source": [
    "# Luckily, this quick-and-dirty model does not break itself.\n",
    "# Now let's move the trained model into a web page."
   ]
  }
 ],
 "metadata": {
  "interpreter": {
   "hash": "082e4a0aed613a253faec02d115249d5924bc974b42b3bb48c9132d1199fee04"
  },
  "kernelspec": {
   "display_name": "Python 3.8.10 64-bit ('fastai': conda)",
   "name": "python3"
  },
  "language_info": {
   "codemirror_mode": {
    "name": "ipython",
    "version": 3
   },
   "file_extension": ".py",
   "mimetype": "text/x-python",
   "name": "python",
   "nbconvert_exporter": "python",
   "pygments_lexer": "ipython3",
   "version": "3.8.10"
  },
  "orig_nbformat": 4
 },
 "nbformat": 4,
 "nbformat_minor": 2
}